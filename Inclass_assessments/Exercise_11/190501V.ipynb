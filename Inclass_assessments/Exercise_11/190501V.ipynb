{
  "nbformat": 4,
  "nbformat_minor": 0,
  "metadata": {
    "colab": {
      "name": "Exercise 11",
      "provenance": []
    },
    "kernelspec": {
      "name": "python3",
      "display_name": "Python 3"
    },
    "language_info": {
      "name": "python"
    }
  },
  "cells": [
    {
      "cell_type": "markdown",
      "source": [
        "Ranathunga R.A.C.D. - 190501V\n",
        "\n",
        "Excercise 11\n",
        "\n",
        "\n",
        "\n",
        "Github link = https://github.com/ChamithDilshan"
      ],
      "metadata": {
        "id": "A-o2hrBSKu15"
      }
    },
    {
      "cell_type": "markdown",
      "source": [
        "Question 01"
      ],
      "metadata": {
        "id": "UcjqNGbDCHil"
      }
    },
    {
      "cell_type": "code",
      "execution_count": 3,
      "metadata": {
        "id": "GvLjuCKXA4vr"
      },
      "outputs": [],
      "source": [
        "import tensorflow as tf\n",
        "from tensorflow import keras\n",
        "from tensorflow.keras import datasets, layers, models\n",
        "import numpy as np\n",
        "import matplotlib.pyplot as plt"
      ]
    },
    {
      "cell_type": "code",
      "source": [
        "mnist = keras.datasets.mnist\n",
        "(train_images, train_labels), (test_images, test_labels) = mnist.load_data()\n",
        "\n",
        "paddings = tf.constant([[0, 0], [2, 2], [2, 2]])\n",
        "train_images = tf.pad(train_images, paddings, constant_values=0)\n",
        "test_images = tf.pad(test_images, paddings, constant_values=0)\n",
        "\n",
        "print('train_images.shape: ', train_images.shape)\n",
        "print('train_labels.shape: ', train_labels.shape)\n",
        "print('test_images.shape:', test_images.shape)\n",
        "print('test_labels.shape:', test_labels.shape)\n",
        "\n",
        "class_names = ['0', '1', '2', '3', '4', '5', '6', '7', '8', '9']\n",
        "train_images = tf.dtypes.cast(train_images, tf.float32)\n",
        "test_images = tf.dtypes.cast(test_images, tf.float32)\n",
        "train_images, test_images = train_images[..., np.newaxis]/255.0, test_images[..., np.newaxis]/255.0"
      ],
      "metadata": {
        "colab": {
          "base_uri": "https://localhost:8080/"
        },
        "id": "YPqMxw_vBVAt",
        "outputId": "2dd2baf6-1340-4e8d-de40-dc1bcfd9a676"
      },
      "execution_count": 4,
      "outputs": [
        {
          "output_type": "stream",
          "name": "stdout",
          "text": [
            "Downloading data from https://storage.googleapis.com/tensorflow/tf-keras-datasets/mnist.npz\n",
            "11493376/11490434 [==============================] - 0s 0us/step\n",
            "11501568/11490434 [==============================] - 0s 0us/step\n",
            "train_images.shape:  (60000, 32, 32)\n",
            "train_labels.shape:  (60000,)\n",
            "test_images.shape: (10000, 32, 32)\n",
            "test_labels.shape: (10000,)\n"
          ]
        }
      ]
    },
    {
      "cell_type": "code",
      "source": [
        "model = models.Sequential()\n",
        "model.add(layers.Conv2D(6,(5,5),activation = 'relu',input_shape = (32,32,1)))\n",
        "model.add(layers.AveragePooling2D((2,2)))\n",
        "model.add(layers.Conv2D(16,(5,5),activation = 'relu'))\n",
        "model.add(layers.AveragePooling2D((2,2)))\n",
        "model.add(layers.Flatten())\n",
        "model.add(layers.Dense(120,activation = 'relu'))\n",
        "model.add(layers.Dense(84,activation = 'relu'))\n",
        "model.add(layers.Dense(10))\n",
        "model.compile(optimizer = 'adam',loss = tf.keras.losses.SparseCategoricalCrossentropy(from_logits=True),metrics = ['accuracy'])\n",
        "print(model.summary())\n",
        "model.fit(train_images,train_labels,epochs = 5)\n",
        "test_loss, test_accuracy = model.evaluate(test_images,test_labels,verbose = 2)"
      ],
      "metadata": {
        "colab": {
          "base_uri": "https://localhost:8080/"
        },
        "id": "lQym1LXtBZuO",
        "outputId": "c018606b-2b7c-4f96-ea6d-c001b4ef2b28"
      },
      "execution_count": 5,
      "outputs": [
        {
          "output_type": "stream",
          "name": "stdout",
          "text": [
            "Model: \"sequential\"\n",
            "_________________________________________________________________\n",
            " Layer (type)                Output Shape              Param #   \n",
            "=================================================================\n",
            " conv2d (Conv2D)             (None, 28, 28, 6)         156       \n",
            "                                                                 \n",
            " average_pooling2d (AverageP  (None, 14, 14, 6)        0         \n",
            " ooling2D)                                                       \n",
            "                                                                 \n",
            " conv2d_1 (Conv2D)           (None, 10, 10, 16)        2416      \n",
            "                                                                 \n",
            " average_pooling2d_1 (Averag  (None, 5, 5, 16)         0         \n",
            " ePooling2D)                                                     \n",
            "                                                                 \n",
            " flatten (Flatten)           (None, 400)               0         \n",
            "                                                                 \n",
            " dense (Dense)               (None, 120)               48120     \n",
            "                                                                 \n",
            " dense_1 (Dense)             (None, 84)                10164     \n",
            "                                                                 \n",
            " dense_2 (Dense)             (None, 10)                850       \n",
            "                                                                 \n",
            "=================================================================\n",
            "Total params: 61,706\n",
            "Trainable params: 61,706\n",
            "Non-trainable params: 0\n",
            "_________________________________________________________________\n",
            "None\n",
            "Epoch 1/5\n",
            "1875/1875 [==============================] - 32s 17ms/step - loss: 0.2222 - accuracy: 0.9322\n",
            "Epoch 2/5\n",
            "1875/1875 [==============================] - 33s 18ms/step - loss: 0.0738 - accuracy: 0.9772\n",
            "Epoch 3/5\n",
            "1875/1875 [==============================] - 34s 18ms/step - loss: 0.0521 - accuracy: 0.9833\n",
            "Epoch 4/5\n",
            "1875/1875 [==============================] - 34s 18ms/step - loss: 0.0406 - accuracy: 0.9873\n",
            "Epoch 5/5\n",
            "1875/1875 [==============================] - 34s 18ms/step - loss: 0.0339 - accuracy: 0.9892\n",
            "313/313 - 2s - loss: 0.0356 - accuracy: 0.9871 - 2s/epoch - 7ms/step\n"
          ]
        }
      ]
    },
    {
      "cell_type": "markdown",
      "source": [
        "Question 02"
      ],
      "metadata": {
        "id": "BkQ7KGEMCSbM"
      }
    },
    {
      "cell_type": "code",
      "source": [
        "(train_images, train_labels), (test_images, test_labels) = datasets.cifar10.load_data()\n",
        "\n",
        "train_images, test_images = train_images / 255.0, test_images / 255.0\n",
        "class_names = ['airplane', 'automobile', 'bird', 'cat', 'deer', 'dog', 'frog', 'horse', 'ship', 'truck']\n",
        "print('train_images.shape: ', train_images.shape)\n",
        "print('train_labels.shape: ', train_labels.shape)\n",
        "print('test_images.shape:', test_images.shape)\n",
        "print('test_labels.shape:', test_labels.shape)"
      ],
      "metadata": {
        "colab": {
          "base_uri": "https://localhost:8080/"
        },
        "id": "XzkrhlTSCE-t",
        "outputId": "22c501f1-ca6f-4de6-f137-3e684483e16f"
      },
      "execution_count": 6,
      "outputs": [
        {
          "output_type": "stream",
          "name": "stdout",
          "text": [
            "Downloading data from https://www.cs.toronto.edu/~kriz/cifar-10-python.tar.gz\n",
            "170500096/170498071 [==============================] - 2s 0us/step\n",
            "170508288/170498071 [==============================] - 2s 0us/step\n",
            "train_images.shape:  (50000, 32, 32, 3)\n",
            "train_labels.shape:  (50000, 1)\n",
            "test_images.shape: (10000, 32, 32, 3)\n",
            "test_labels.shape: (10000, 1)\n"
          ]
        }
      ]
    },
    {
      "cell_type": "code",
      "source": [
        "model = models.Sequential()\n",
        "model.add(layers.Conv2D(32,(5,5),activation = 'relu',input_shape = (32,32,3)))\n",
        "model.add(layers.MaxPool2D((2,2)))\n",
        "model.add(layers.Conv2D(64,(3,3),activation = 'relu'))\n",
        "model.add(layers.MaxPool2D((2,2)))\n",
        "model.add(layers.Conv2D(128,(3,3),activation = 'relu'))\n",
        "model.add(layers.MaxPool2D((2,2)))\n",
        "model.add(layers.Flatten())\n",
        "model.add(layers.Dense(64,activation = 'relu'))\n",
        "model.add(layers.Dense(10))"
      ],
      "metadata": {
        "id": "FJ2prXVWCZVk"
      },
      "execution_count": 7,
      "outputs": []
    },
    {
      "cell_type": "code",
      "source": [
        "model.compile(optimizer = keras.optimizers.Adam(learning_rate=0.001),loss = tf.keras.losses.SparseCategoricalCrossentropy(from_logits=True), metrics = ['accuracy'])\n",
        "print(model.summary)\n",
        "model.fit(train_images,train_labels,epochs = 5)\n",
        "test_loss, test_accuracy = model.evaluate(test_images,test_labels,verbose = 2)\n",
        "print(test_accuracy)"
      ],
      "metadata": {
        "colab": {
          "base_uri": "https://localhost:8080/"
        },
        "id": "ObFVg5bICg5c",
        "outputId": "0df1acc2-9804-4951-88e2-c6cf4d0cd46c"
      },
      "execution_count": 8,
      "outputs": [
        {
          "output_type": "stream",
          "name": "stdout",
          "text": [
            "<bound method Model.summary of <keras.engine.sequential.Sequential object at 0x7fc3e0efc290>>\n",
            "Epoch 1/5\n",
            "1563/1563 [==============================] - 81s 52ms/step - loss: 1.5622 - accuracy: 0.4282\n",
            "Epoch 2/5\n",
            "1563/1563 [==============================] - 76s 49ms/step - loss: 1.1783 - accuracy: 0.5821\n",
            "Epoch 3/5\n",
            "1563/1563 [==============================] - 76s 49ms/step - loss: 1.0172 - accuracy: 0.6428\n",
            "Epoch 4/5\n",
            "1563/1563 [==============================] - 76s 49ms/step - loss: 0.9116 - accuracy: 0.6829\n",
            "Epoch 5/5\n",
            "1563/1563 [==============================] - 78s 50ms/step - loss: 0.8325 - accuracy: 0.7082\n",
            "313/313 - 4s - loss: 0.9351 - accuracy: 0.6805 - 4s/epoch - 12ms/step\n",
            "0.6804999709129333\n"
          ]
        }
      ]
    },
    {
      "cell_type": "markdown",
      "source": [
        "Question 3"
      ],
      "metadata": {
        "id": "w2pMPrueFDCG"
      }
    },
    {
      "cell_type": "code",
      "source": [
        "mnist = keras.datasets.mnist\n",
        "(train_images, train_labels), (test_images, test_labels) = mnist.load_data()\n",
        "\n",
        "paddings = tf.constant([[0, 0], [2, 2], [2, 2]])\n",
        "train_images = tf.pad(train_images, paddings, constant_values=0)\n",
        "test_images = tf.pad(test_images, paddings, constant_values=0)\n",
        "\n",
        "print('train_images.shape: ', train_images.shape)\n",
        "print('train_labels.shape: ', train_labels.shape)\n",
        "print('test_images.shape:', test_images.shape)\n",
        "print('test_labels.shape:', test_labels.shape)\n",
        "\n",
        "class_names = ['0', '1', '2', '3', '4', '5', '6', '7', '8', '9']\n",
        "train_images = tf.dtypes.cast(train_images, tf.float32)\n",
        "test_images = tf.dtypes.cast(test_images, tf.float32)\n",
        "train_images, test_images = train_images[..., np.newaxis]/255.0, test_images[..., np.newaxis]/255.0\n",
        "\n",
        "model_base = models.Sequential()\n",
        "model_base.add(layers.Conv2D(32,(3,3),activation = 'relu',input_shape = (32,32,1)))\n",
        "model_base.add(layers.MaxPool2D((2,2)))\n",
        "model_base.add(layers.Conv2D(64,(3,3),activation = 'relu'))\n",
        "model_base.add(layers.MaxPool2D((2,2)))\n",
        "model_base.add(layers.Conv2D(64,(3,3),activation = 'relu'))\n",
        "model_base.add(layers.Flatten())\n",
        "model_base.add(layers.Dense(64,activation = 'relu'))\n",
        "model_base.add(layers.Dense(10))\n",
        "\n",
        "model_base.compile(optimizer = keras.optimizers.Adam(),loss = tf.keras.losses.SparseCategoricalCrossentropy(from_logits=True), metrics = ['accuracy'])\n",
        "print(model_base.summary())\n",
        "model_base.fit(train_images,train_labels,epochs = 2)\n",
        "test_loss, test_accuracy = model_base.evaluate(test_images,test_labels,verbose = 2)\n",
        "model_base.save_weights('saved_weights/')"
      ],
      "metadata": {
        "colab": {
          "base_uri": "https://localhost:8080/"
        },
        "id": "DX8jQDUBDxxO",
        "outputId": "57bb6df9-428d-429b-cc3a-e0edf97b3baa"
      },
      "execution_count": 9,
      "outputs": [
        {
          "output_type": "stream",
          "name": "stdout",
          "text": [
            "train_images.shape:  (60000, 32, 32)\n",
            "train_labels.shape:  (60000,)\n",
            "test_images.shape: (10000, 32, 32)\n",
            "test_labels.shape: (10000,)\n",
            "Model: \"sequential_2\"\n",
            "_________________________________________________________________\n",
            " Layer (type)                Output Shape              Param #   \n",
            "=================================================================\n",
            " conv2d_5 (Conv2D)           (None, 30, 30, 32)        320       \n",
            "                                                                 \n",
            " max_pooling2d_3 (MaxPooling  (None, 15, 15, 32)       0         \n",
            " 2D)                                                             \n",
            "                                                                 \n",
            " conv2d_6 (Conv2D)           (None, 13, 13, 64)        18496     \n",
            "                                                                 \n",
            " max_pooling2d_4 (MaxPooling  (None, 6, 6, 64)         0         \n",
            " 2D)                                                             \n",
            "                                                                 \n",
            " conv2d_7 (Conv2D)           (None, 4, 4, 64)          36928     \n",
            "                                                                 \n",
            " flatten_2 (Flatten)         (None, 1024)              0         \n",
            "                                                                 \n",
            " dense_5 (Dense)             (None, 64)                65600     \n",
            "                                                                 \n",
            " dense_6 (Dense)             (None, 10)                650       \n",
            "                                                                 \n",
            "=================================================================\n",
            "Total params: 121,994\n",
            "Trainable params: 121,994\n",
            "Non-trainable params: 0\n",
            "_________________________________________________________________\n",
            "None\n",
            "Epoch 1/2\n",
            "1875/1875 [==============================] - 65s 35ms/step - loss: 0.1333 - accuracy: 0.9585\n",
            "Epoch 2/2\n",
            "1875/1875 [==============================] - 66s 35ms/step - loss: 0.0415 - accuracy: 0.9873\n",
            "313/313 - 3s - loss: 0.0374 - accuracy: 0.9880 - 3s/epoch - 9ms/step\n"
          ]
        }
      ]
    },
    {
      "cell_type": "markdown",
      "source": [
        "Question 4"
      ],
      "metadata": {
        "id": "QJatnPmvFus8"
      }
    },
    {
      "cell_type": "code",
      "source": [
        "model_lw = models.Sequential()\n",
        "model_lw.add(layers.Conv2D(32,(3,3),activation = 'relu',input_shape = (32,32,1)))\n",
        "model_lw.add(layers.MaxPool2D((2,2)))\n",
        "model_lw.add(layers.Conv2D(64,(3,3),activation = 'relu'))\n",
        "model_lw.add(layers.MaxPool2D((2,2)))\n",
        "model_lw.add(layers.Conv2D(64,(3,3),activation = 'relu'))\n",
        "model_lw.add(layers.Flatten())\n",
        "model_lw.add(layers.Dense(64,activation = 'relu'))\n",
        "model_lw.add(layers.Dense(10))\n",
        "\n",
        "model_lw.compile(optimizer = keras.optimizers.Adam(),loss = tf.keras.losses.SparseCategoricalCrossentropy(from_logits=True),metrics = ['accuracy'])\n",
        "\n",
        "print(model_lw.summary())\n",
        "\n",
        "model_lw.load_weights('saved_weights/')\n",
        "model_lw.fit(train_images,train_labels,epochs = 2)\n",
        "test_loss, test_accuracy = model_lw.evaluate(test_images,test_labels,verbose = 2)\n",
        "model_lw.save('saved_model/')"
      ],
      "metadata": {
        "colab": {
          "base_uri": "https://localhost:8080/"
        },
        "id": "BpCFnGmIFw1U",
        "outputId": "cf1f8c4b-558f-4d84-a7d0-298e196c1f13"
      },
      "execution_count": 10,
      "outputs": [
        {
          "output_type": "stream",
          "name": "stdout",
          "text": [
            "Model: \"sequential_3\"\n",
            "_________________________________________________________________\n",
            " Layer (type)                Output Shape              Param #   \n",
            "=================================================================\n",
            " conv2d_8 (Conv2D)           (None, 30, 30, 32)        320       \n",
            "                                                                 \n",
            " max_pooling2d_5 (MaxPooling  (None, 15, 15, 32)       0         \n",
            " 2D)                                                             \n",
            "                                                                 \n",
            " conv2d_9 (Conv2D)           (None, 13, 13, 64)        18496     \n",
            "                                                                 \n",
            " max_pooling2d_6 (MaxPooling  (None, 6, 6, 64)         0         \n",
            " 2D)                                                             \n",
            "                                                                 \n",
            " conv2d_10 (Conv2D)          (None, 4, 4, 64)          36928     \n",
            "                                                                 \n",
            " flatten_3 (Flatten)         (None, 1024)              0         \n",
            "                                                                 \n",
            " dense_7 (Dense)             (None, 64)                65600     \n",
            "                                                                 \n",
            " dense_8 (Dense)             (None, 10)                650       \n",
            "                                                                 \n",
            "=================================================================\n",
            "Total params: 121,994\n",
            "Trainable params: 121,994\n",
            "Non-trainable params: 0\n",
            "_________________________________________________________________\n",
            "None\n",
            "Epoch 1/2\n",
            "1875/1875 [==============================] - 65s 35ms/step - loss: 0.0282 - accuracy: 0.9907\n",
            "Epoch 2/2\n",
            "1875/1875 [==============================] - 65s 35ms/step - loss: 0.0220 - accuracy: 0.9933\n",
            "313/313 - 3s - loss: 0.0303 - accuracy: 0.9906 - 3s/epoch - 9ms/step\n",
            "INFO:tensorflow:Assets written to: saved_model/assets\n"
          ]
        }
      ]
    },
    {
      "cell_type": "markdown",
      "source": [
        "Question 5 - load the model"
      ],
      "metadata": {
        "id": "JfeZ_chhGcBj"
      }
    },
    {
      "cell_type": "code",
      "source": [
        "model_ld = keras.models.load_model('saved_model/')\n",
        "print(model_ld.summary())\n",
        "model_ld.evaluate(test_images, test_labels, verbose = 2)"
      ],
      "metadata": {
        "colab": {
          "base_uri": "https://localhost:8080/"
        },
        "id": "XOanci0_GemC",
        "outputId": "793be28d-4318-4818-cdb2-30eec950498b"
      },
      "execution_count": 11,
      "outputs": [
        {
          "output_type": "stream",
          "name": "stdout",
          "text": [
            "Model: \"sequential_3\"\n",
            "_________________________________________________________________\n",
            " Layer (type)                Output Shape              Param #   \n",
            "=================================================================\n",
            " conv2d_8 (Conv2D)           (None, 30, 30, 32)        320       \n",
            "                                                                 \n",
            " max_pooling2d_5 (MaxPooling  (None, 15, 15, 32)       0         \n",
            " 2D)                                                             \n",
            "                                                                 \n",
            " conv2d_9 (Conv2D)           (None, 13, 13, 64)        18496     \n",
            "                                                                 \n",
            " max_pooling2d_6 (MaxPooling  (None, 6, 6, 64)         0         \n",
            " 2D)                                                             \n",
            "                                                                 \n",
            " conv2d_10 (Conv2D)          (None, 4, 4, 64)          36928     \n",
            "                                                                 \n",
            " flatten_3 (Flatten)         (None, 1024)              0         \n",
            "                                                                 \n",
            " dense_7 (Dense)             (None, 64)                65600     \n",
            "                                                                 \n",
            " dense_8 (Dense)             (None, 10)                650       \n",
            "                                                                 \n",
            "=================================================================\n",
            "Total params: 121,994\n",
            "Trainable params: 121,994\n",
            "Non-trainable params: 0\n",
            "_________________________________________________________________\n",
            "None\n",
            "313/313 - 4s - loss: 0.0303 - accuracy: 0.9906 - 4s/epoch - 11ms/step\n"
          ]
        },
        {
          "output_type": "execute_result",
          "data": {
            "text/plain": [
              "[0.030343422666192055, 0.9905999898910522]"
            ]
          },
          "metadata": {},
          "execution_count": 11
        }
      ]
    },
    {
      "cell_type": "markdown",
      "source": [
        "Question 6"
      ],
      "metadata": {
        "id": "JgXg62fPGuMB"
      }
    },
    {
      "cell_type": "code",
      "source": [
        "# fine tune the model\n",
        "base_inputs = model_ld.layers[0].input\n",
        "base_outputs = model_ld.layers[-2].output\n",
        "output = layers.Dense(10)(base_outputs)\n",
        "\n",
        "new_model = keras.Model(inputs = base_inputs, outputs = output)\n",
        "new_model.compile(optimizer = keras.optimizers.Adam(), loss = tf.keras.losses.SparseCategoricalCrossentropy(from_logits=True),metrics = ['accuracy'])\n",
        "print(new_model.summary())\n",
        "\n",
        "new_model.fit(train_images, train_labels, epochs=3)\n",
        "test_loss, test_accuracy = new_model.evaluate(test_images, test_labels, verbose = 2)"
      ],
      "metadata": {
        "colab": {
          "base_uri": "https://localhost:8080/"
        },
        "id": "rGcx-xETGpzV",
        "outputId": "7a47f7c9-0b8b-4e6a-bf29-ea048910a927"
      },
      "execution_count": 12,
      "outputs": [
        {
          "output_type": "stream",
          "name": "stdout",
          "text": [
            "Model: \"model\"\n",
            "_________________________________________________________________\n",
            " Layer (type)                Output Shape              Param #   \n",
            "=================================================================\n",
            " conv2d_8_input (InputLayer)  [(None, 32, 32, 1)]      0         \n",
            "                                                                 \n",
            " conv2d_8 (Conv2D)           (None, 30, 30, 32)        320       \n",
            "                                                                 \n",
            " max_pooling2d_5 (MaxPooling  (None, 15, 15, 32)       0         \n",
            " 2D)                                                             \n",
            "                                                                 \n",
            " conv2d_9 (Conv2D)           (None, 13, 13, 64)        18496     \n",
            "                                                                 \n",
            " max_pooling2d_6 (MaxPooling  (None, 6, 6, 64)         0         \n",
            " 2D)                                                             \n",
            "                                                                 \n",
            " conv2d_10 (Conv2D)          (None, 4, 4, 64)          36928     \n",
            "                                                                 \n",
            " flatten_3 (Flatten)         (None, 1024)              0         \n",
            "                                                                 \n",
            " dense_7 (Dense)             (None, 64)                65600     \n",
            "                                                                 \n",
            " dense_9 (Dense)             (None, 10)                650       \n",
            "                                                                 \n",
            "=================================================================\n",
            "Total params: 121,994\n",
            "Trainable params: 121,994\n",
            "Non-trainable params: 0\n",
            "_________________________________________________________________\n",
            "None\n",
            "Epoch 1/3\n",
            "1875/1875 [==============================] - 72s 38ms/step - loss: 0.0708 - accuracy: 0.9799\n",
            "Epoch 2/3\n",
            "1875/1875 [==============================] - 72s 39ms/step - loss: 0.0173 - accuracy: 0.9948\n",
            "Epoch 3/3\n",
            "1875/1875 [==============================] - 71s 38ms/step - loss: 0.0142 - accuracy: 0.9956\n",
            "313/313 - 4s - loss: 0.0259 - accuracy: 0.9932 - 4s/epoch - 14ms/step\n"
          ]
        }
      ]
    },
    {
      "cell_type": "markdown",
      "source": [
        "Question 7"
      ],
      "metadata": {
        "id": "zYhQeZL8Hm50"
      }
    },
    {
      "cell_type": "code",
      "source": [
        "model_for_tl = keras.models.load_model('saved_model/')\n",
        "model_for_tl.trainable = False\n",
        "\n",
        "for layer in model_for_tl.layers:\n",
        "    assert layer.trainable == False\n",
        "    \n",
        "base_inputs = model_for_tl.layers[0].input\n",
        "base_outputs = model_for_tl.layers[-2].output\n",
        "output = layers.Dense(10)(base_outputs)\n",
        "\n",
        "new_model = keras.Model(inputs = base_inputs, outputs = output)\n",
        "new_model.compile(optimizer = keras.optimizers.Adam(), loss = tf.keras.losses.SparseCategoricalCrossentropy(from_logits=True),metrics = ['accuracy'])\n",
        "new_model.fit(train_images, train_labels, epochs=3,verbose = 2)\n",
        "new_model.evaluate(test_images, test_labels, verbose = 2)"
      ],
      "metadata": {
        "colab": {
          "base_uri": "https://localhost:8080/"
        },
        "id": "l7y681piHpNj",
        "outputId": "04b111cb-6e4a-48cc-dbf6-fe961bdc737e"
      },
      "execution_count": 13,
      "outputs": [
        {
          "output_type": "stream",
          "name": "stdout",
          "text": [
            "Epoch 1/3\n",
            "1875/1875 - 24s - loss: 0.1629 - accuracy: 0.9626 - 24s/epoch - 13ms/step\n",
            "Epoch 2/3\n",
            "1875/1875 - 18s - loss: 0.0156 - accuracy: 0.9957 - 18s/epoch - 10ms/step\n",
            "Epoch 3/3\n",
            "1875/1875 - 20s - loss: 0.0115 - accuracy: 0.9967 - 20s/epoch - 11ms/step\n",
            "313/313 - 3s - loss: 0.0218 - accuracy: 0.9939 - 3s/epoch - 11ms/step\n"
          ]
        },
        {
          "output_type": "execute_result",
          "data": {
            "text/plain": [
              "[0.021838992834091187, 0.9939000010490417]"
            ]
          },
          "metadata": {},
          "execution_count": 13
        }
      ]
    },
    {
      "cell_type": "markdown",
      "source": [
        "Question 8"
      ],
      "metadata": {
        "id": "PCpr4VrwIETa"
      }
    },
    {
      "cell_type": "code",
      "source": [
        "model = keras.applications.resnet_v2.ResNet50V2(include_top= True)\n",
        "model.trainable = False\n",
        "\n",
        "for layer in model.layers:\n",
        "    assert layer.trainable == False\n",
        "\n",
        "base_inputs = model.layers[0].input\n",
        "base_outputs = model.layers[-2].output\n",
        "output = layers.Dense(5)(base_outputs)\n",
        "\n",
        "images = tf.random.normal(shape=(5,224,224,3))\n",
        "labels = tf.constant(list(np.random.randint(0,4,5)))\n",
        "\n",
        "new_model = keras.Model(inputs = base_inputs, outputs = output)\n",
        "new_model.compile(optimizer = keras.optimizers.Adam(), loss = tf.keras.losses.SparseCategoricalCrossentropy(from_logits=True),metrics = ['accuracy'])\n",
        "new_model.fit(images, labels, epochs=15,verbose = 2)"
      ],
      "metadata": {
        "colab": {
          "base_uri": "https://localhost:8080/"
        },
        "id": "SNlITc89IFSE",
        "outputId": "af94efff-13be-47c4-94a8-d0817c51c487"
      },
      "execution_count": 21,
      "outputs": [
        {
          "output_type": "stream",
          "name": "stdout",
          "text": [
            "Epoch 1/15\n",
            "1/1 - 4s - loss: 3.1782 - accuracy: 0.0000e+00 - 4s/epoch - 4s/step\n",
            "Epoch 2/15\n",
            "1/1 - 1s - loss: 2.7754 - accuracy: 0.0000e+00 - 579ms/epoch - 579ms/step\n",
            "Epoch 3/15\n",
            "1/1 - 1s - loss: 2.4127 - accuracy: 0.0000e+00 - 573ms/epoch - 573ms/step\n",
            "Epoch 4/15\n",
            "1/1 - 1s - loss: 2.0989 - accuracy: 0.0000e+00 - 584ms/epoch - 584ms/step\n",
            "Epoch 5/15\n",
            "1/1 - 1s - loss: 1.8355 - accuracy: 0.2000 - 582ms/epoch - 582ms/step\n",
            "Epoch 6/15\n",
            "1/1 - 1s - loss: 1.6166 - accuracy: 0.2000 - 577ms/epoch - 577ms/step\n",
            "Epoch 7/15\n",
            "1/1 - 1s - loss: 1.4369 - accuracy: 0.6000 - 579ms/epoch - 579ms/step\n",
            "Epoch 8/15\n",
            "1/1 - 1s - loss: 1.2944 - accuracy: 0.4000 - 574ms/epoch - 574ms/step\n",
            "Epoch 9/15\n",
            "1/1 - 1s - loss: 1.1873 - accuracy: 0.4000 - 587ms/epoch - 587ms/step\n",
            "Epoch 10/15\n",
            "1/1 - 1s - loss: 1.1115 - accuracy: 0.4000 - 568ms/epoch - 568ms/step\n",
            "Epoch 11/15\n",
            "1/1 - 1s - loss: 1.0606 - accuracy: 0.4000 - 587ms/epoch - 587ms/step\n",
            "Epoch 12/15\n",
            "1/1 - 1s - loss: 1.0268 - accuracy: 0.4000 - 587ms/epoch - 587ms/step\n",
            "Epoch 13/15\n",
            "1/1 - 1s - loss: 1.0032 - accuracy: 0.6000 - 571ms/epoch - 571ms/step\n",
            "Epoch 14/15\n",
            "1/1 - 1s - loss: 0.9848 - accuracy: 0.8000 - 577ms/epoch - 577ms/step\n",
            "Epoch 15/15\n",
            "1/1 - 1s - loss: 0.9682 - accuracy: 0.8000 - 579ms/epoch - 579ms/step\n"
          ]
        },
        {
          "output_type": "execute_result",
          "data": {
            "text/plain": [
              "<keras.callbacks.History at 0x7fc3d07ebad0>"
            ]
          },
          "metadata": {},
          "execution_count": 21
        }
      ]
    }
  ]
}