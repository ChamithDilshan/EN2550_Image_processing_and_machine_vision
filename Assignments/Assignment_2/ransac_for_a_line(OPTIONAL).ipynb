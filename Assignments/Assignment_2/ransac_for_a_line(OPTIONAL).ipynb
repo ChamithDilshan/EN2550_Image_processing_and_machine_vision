{
 "cells": [
  {
   "cell_type": "code",
   "execution_count": 599,
   "metadata": {},
   "outputs": [],
   "source": [
    "import numpy as np\n",
    "import matplotlib.pyplot as plt\n",
    "import cv2 as cv\n",
    "%matplotlib inline"
   ]
  },
  {
   "cell_type": "code",
   "execution_count": 600,
   "metadata": {},
   "outputs": [
    {
     "data": {
      "image/png": "[encoded data removed]",
      "text/plain": [
       "<Figure size 432x288 with 1 Axes>"
      ]
     },
     "metadata": {
      "needs_background": "light"
     },
     "output_type": "display_data"
    }
   ],
   "source": [
    "m = 2    #y=mx+c\n",
    "c = 1\n",
    "x = np.arange (1 , 101 , 1)     #1 to 6 incrementing by 1\n",
    "# print('x =',x)\n",
    "\n",
    "sigma = 10\n",
    "np.random.seed(20)    #https://likegeeks.com/numpy-random-seed/  <-----  to learn about random.seed\n",
    "noise = sigma * np.random.randn(len(x))\n",
    "# print(\"Noise =\" , noise)\n",
    "\n",
    "o = np.zeros(x.shape)\n",
    "y = m*x +c + noise + o\n",
    "# print(\"Y = \", y)\n",
    "\n",
    "plt.plot(x,y,'o')\n",
    "plt.show()"
   ]
  },
  {
   "cell_type": "code",
   "execution_count": 601,
   "metadata": {},
   "outputs": [],
   "source": [
    "def perpendicular_distance(point_x,point_y,m_line, c_line):\n",
    "    return np.abs((m_line*point_x + c_line - point_y)/(np.sqrt(m_line**2 + 1)))"
   ]
  },
  {
   "cell_type": "code",
   "execution_count": 602,
   "metadata": {},
   "outputs": [],
   "source": [
    "p = 0.99\n",
    "s = 2\n",
    "e = 0.5\n",
    "N = int(np.ceil(np.log(1-p)/np.log(1-((1-e)**s))))"
   ]
  },
  {
   "cell_type": "code",
   "execution_count": 603,
   "metadata": {},
   "outputs": [
    {
     "name": "stdout",
     "output_type": "stream",
     "text": [
      "Best m= 1.844508319191179 \n",
      "Best c= 5.945018588053465\n",
      "Outlier perccentage =  0.37\n"
     ]
    }
   ],
   "source": [
    "total_points = len(x)\n",
    "best_m = 0\n",
    "best_c = 0\n",
    "\n",
    "for i in range(N):\n",
    "    while True:\n",
    "        a,b =np.random.randint(N, size=(2))\n",
    "        if a!=b: break\n",
    "        \n",
    "    point_1_x = x[a]\n",
    "    point_1_y = y[a]\n",
    "\n",
    "    point_2_x = x[b]\n",
    "    point_2_y = y[b]\n",
    "\n",
    "    m = (point_2_y - point_1_y)/(point_2_x-point_1_x)\n",
    "    c = point_2_y - m*point_2_x\n",
    "    y2 = m*x+c\n",
    "\n",
    "\n",
    "    inliers, outliers = 0,0\n",
    "    for j in range(total_points):\n",
    "        d = perpendicular_distance(x[j],y[j],m,c)\n",
    "        if d<5:\n",
    "            inliers += 1\n",
    "           \n",
    "        else: \n",
    "            outliers +=1\n",
    "\n",
    "    outlier_percentage = outliers/total_points\n",
    "    # print('in= ',inliers,'out=',outliers,'perce=',outlier_percentage,m,c)\n",
    "    # print(round(outlier_percentage,2))\n",
    "    if outlier_percentage <= e:\n",
    "        best_m = m\n",
    "        best_c = c\n",
    "        e = outlier_percentage\n",
    "print(\"Best m=\",best_m,\"\\nBest c=\", best_c)\n",
    "print(\"Outlier perccentage = \",round(e,2))"
   ]
  },
  {
   "cell_type": "code",
   "execution_count": 604,
   "metadata": {},
   "outputs": [
    {
     "data": {
      "image/png": "[encoded data removed]",
      "text/plain": [
       "<Figure size 432x288 with 1 Axes>"
      ]
     },
     "metadata": {
      "needs_background": "light"
     },
     "output_type": "display_data"
    }
   ],
   "source": [
    "y2 = best_m*x+best_c\n",
    "plt.plot(x,y,'o')\n",
    "plt.plot(x,y2)\n",
    "plt.grid('on')\n",
    "plt.show()"
   ]
  }
 ],
 "metadata": {
  "interpreter": {
   "hash": "63fd5069d213b44bf678585dea6b12cceca9941eaf7f819626cde1f2670de90d"
  },
  "kernelspec": {
   "display_name": "Python 3.9.1 64-bit (system)",
   "language": "python",
   "name": "python3"
  },
  "language_info": {
   "codemirror_mode": {
    "name": "ipython",
    "version": 3
   },
   "file_extension": ".py",
   "mimetype": "text/x-python",
   "name": "python",
   "nbconvert_exporter": "python",
   "pygments_lexer": "ipython3",
   "version": "3.9.1"
  },
  "orig_nbformat": 4
 },
 "nbformat": 4,
 "nbformat_minor": 2
}
