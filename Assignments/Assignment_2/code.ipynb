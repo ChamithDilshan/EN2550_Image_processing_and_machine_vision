{
 "cells": [
  {
   "cell_type": "code",
   "execution_count": 1,
   "metadata": {},
   "outputs": [],
   "source": [
    "import numpy as np\n",
    "from scipy . optimize import minimize\n",
    "from scipy import linalg\n",
    "import matplotlib . pyplot as plt\n",
    "%matplotlib inline"
   ]
  },
  {
   "cell_type": "code",
   "execution_count": 2,
   "metadata": {},
   "outputs": [
    {
     "data": {
      "image/png": "[encoded data removed]",
      "text/plain": [
       "<Figure size 360x360 with 1 Axes>"
      ]
     },
     "metadata": {
      "needs_background": "light"
     },
     "output_type": "display_data"
    }
   ],
   "source": [
    "# np . random . seed ( 0 )\n",
    "N = 100\n",
    "half_n = N// 2\n",
    "r = 10\n",
    "s = r /16\n",
    "t = np.random.uniform(0, 2*np.pi, half_n )\n",
    "\n",
    "n = s*np.random.randn(half_n)\n",
    "x, y = (r+n)*np.cos(t),(r+n)*np.sin(t)\n",
    "\n",
    "X_circ = np.hstack((x.reshape(half_n,1), y.reshape(half_n, 1)))\n",
    "\n",
    "\n",
    "# m, b = -1, 2\n",
    "# x = np.linspace(-12, 12, half_n)\n",
    "# y = m*x + b + s*np.random.randn(half_n)\n",
    "# X_line = np.hstack((x.reshape(half_n,1) , y.reshape(half_n,1)))\n",
    "\n",
    "# X = np.vstack((X_circ , X_line))\n",
    "\n",
    "fig = plt.figure(figsize=(5,5))\n",
    "ax = fig.add_subplot()\n",
    "ax.plot(x,y,'o',color='green')\n",
    "ax.set_aspect('equal')\n",
    "\n",
    "plt.show()\n"
   ]
  },
  {
   "cell_type": "code",
   "execution_count": 3,
   "metadata": {},
   "outputs": [
    {
     "name": "stdout",
     "output_type": "stream",
     "text": [
      "50\n"
     ]
    }
   ],
   "source": [
    "total_points = len(x)\n",
    "print(total_points)"
   ]
  },
  {
   "cell_type": "code",
   "execution_count": 4,
   "metadata": {},
   "outputs": [
    {
     "name": "stdout",
     "output_type": "stream",
     "text": [
      "35\n"
     ]
    }
   ],
   "source": [
    "p = 0.99\n",
    "s = 3\n",
    "e = 0.5\n",
    "N = int(np.ceil(np.log(1-p)/np.log(1-((1-e)**s))))\n",
    "print(N)"
   ]
  },
  {
   "cell_type": "code",
   "execution_count": 5,
   "metadata": {},
   "outputs": [],
   "source": [
    "def findCircle(x1, y1, x2, y2, x3, y3) :\n",
    "\tB = (x1**2 + y1**2)*(y2-y3) + (x2**2+y2**2)*(y3-y1) + (x3**2 + y3**2)*(y1-y2)\n",
    "\tA = x1*(y2-y3) - y1*(x2-x3) + x2*y3 - x3*y2\n",
    "\tC = (x1**2 + y1**2)*(x2-x3) + (x2**2 + y2**2)*(x3-x1) + (x3**2 + y3**2)*(x1-x2)\n",
    "\tD = (x1**2 + y1**2)*(x3*y2-x2*y3) + (x2**2 + y2**2)*(x1*y3-x3*y1) + (x3**2+y3**2)*(x2*y1 - x1*y2)\n",
    "\t\n",
    "\tH = B/(2*A)\n",
    "\tK = -C/(2*A)\n",
    "\tR = np.sqrt((B**2 + C**2 - 4*A*D)/(4*(A**2)))\n",
    "\tL = [H,K,R]\n",
    "\n",
    "\n",
    "\treturn L\n",
    "\n",
    "\n"
   ]
  },
  {
   "cell_type": "code",
   "execution_count": 6,
   "metadata": {},
   "outputs": [
    {
     "data": {
      "text/plain": [
       "[3.0, 2.0, 2.23606797749979]"
      ]
     },
     "execution_count": 6,
     "metadata": {},
     "output_type": "execute_result"
    }
   ],
   "source": [
    "findCircle(1,1,2,4,5,3)\n"
   ]
  },
  {
   "cell_type": "code",
   "execution_count": 7,
   "metadata": {},
   "outputs": [],
   "source": [
    "def drawCircle(x0,y0,r,PX,PY):\n",
    "    theta = np.linspace(0, 2*np.pi,360)\n",
    "    xx , yy = x0 + r*np.cos(theta) , y0 + r*np.sin(theta)\n",
    "    \n",
    "    fig = plt.figure(figsize=(5,5))\n",
    "    ax = fig.add_subplot()\n",
    "    ax.plot(xx,yy,color='green')\n",
    "    ax.plot(x,y,'o')\n",
    "    ax.plot(PX,PY,'o',color = 'red')\n",
    "    \n",
    "\n",
    "    ax.set_aspect('equal')\n",
    "    ax.grid('on')\n",
    "    plt.show()\n"
   ]
  },
  {
   "cell_type": "code",
   "execution_count": 8,
   "metadata": {},
   "outputs": [],
   "source": [
    "def random3():\n",
    "    a,b,c = np.random.randint(50,size=3)\n",
    "    if a==b or b==c or a==c:\n",
    "        return random3()\n",
    "    else:\n",
    "        return a,b,c"
   ]
  },
  {
   "cell_type": "code",
   "execution_count": 9,
   "metadata": {},
   "outputs": [],
   "source": [
    "def pointToCircle(hh,kk,r,x11,y11):\n",
    "    return (np.abs(np.sqrt((x11-hh)**2+(y11-kk)**2)-r))"
   ]
  },
  {
   "cell_type": "code",
   "execution_count": 10,
   "metadata": {},
   "outputs": [
    {
     "data": {
      "image/png": "[encoded data removed]",
      "text/plain": [
       "<Figure size 360x360 with 1 Axes>"
      ]
     },
     "metadata": {
      "needs_background": "light"
     },
     "output_type": "display_data"
    },
    {
     "name": "stdout",
     "output_type": "stream",
     "text": [
      "44\n"
     ]
    }
   ],
   "source": [
    "best = []\n",
    "max_inliers = 0\n",
    "for i in range(total_points):\n",
    "    point1, point2, point3 = random3()\n",
    "    inliers = 0\n",
    "    \n",
    "\n",
    "    center_x, center_y, radius = findCircle(x[point1],y[point1],x[point2],y[point2],x[point3],y[point3])\n",
    "\n",
    "    # drawCircle(center_x,center_y,radius,[x[point1],x[point2],x[point3]],[y[point1],y[point2],y[point3]])\n",
    "    \n",
    "    for j in range(total_points):\n",
    "        d = pointToCircle(center_x,center_y,radius,x[j],y[j])\n",
    "        if d<1: inliers+=1\n",
    "    \n",
    "    outliers = total_points - inliers\n",
    "    \n",
    "    if inliers > max_inliers:\n",
    "        best = [point1,point2,point3]\n",
    "        max_inliers = inliers\n",
    "        best_center_x, best_center_y, best_radius = center_x, center_y, radius\n",
    "        \n",
    "drawCircle(best_center_x,best_center_y,best_radius,[x[best[0]],x[best[1]],x[best[2]]],[y[best[0]],y[best[1]],y[best[2]]])\n",
    "print(max_inliers)\n"
   ]
  }
 ],
 "metadata": {
  "interpreter": {
   "hash": "63fd5069d213b44bf678585dea6b12cceca9941eaf7f819626cde1f2670de90d"
  },
  "kernelspec": {
   "display_name": "Python 3.9.1 64-bit (system)",
   "language": "python",
   "name": "python3"
  },
  "language_info": {
   "codemirror_mode": {
    "name": "ipython",
    "version": 3
   },
   "file_extension": ".py",
   "mimetype": "text/x-python",
   "name": "python",
   "nbconvert_exporter": "python",
   "pygments_lexer": "ipython3",
   "version": "3.9.1"
  },
  "orig_nbformat": 4
 },
 "nbformat": 4,
 "nbformat_minor": 2
}
