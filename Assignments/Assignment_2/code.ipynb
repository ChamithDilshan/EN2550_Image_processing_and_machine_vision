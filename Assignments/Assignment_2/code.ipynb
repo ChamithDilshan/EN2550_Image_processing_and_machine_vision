{
 "cells": [
  {
   "cell_type": "code",
   "execution_count": 1,
   "metadata": {},
   "outputs": [],
   "source": [
    "import numpy as np\n",
    "import cv2 as cv\n",
    "from scipy . optimize import minimize\n",
    "from scipy import linalg\n",
    "import matplotlib . pyplot as plt\n",
    "%matplotlib inline"
   ]
  },
  {
   "cell_type": "markdown",
   "metadata": {},
   "source": [
    "Question 01"
   ]
  },
  {
   "cell_type": "code",
   "execution_count": 2,
   "metadata": {},
   "outputs": [
    {
     "data": {
      "image/png": "[encoded data removed]",
      "text/plain": [
       "<Figure size 360x360 with 1 Axes>"
      ]
     },
     "metadata": {
      "needs_background": "light"
     },
     "output_type": "display_data"
    }
   ],
   "source": [
    "# np . random . seed ( 0 )\n",
    "N = 100\n",
    "half_n = N// 2\n",
    "r = 10\n",
    "s = r /16\n",
    "t = np.random.uniform(0, 2*np.pi, half_n )\n",
    "\n",
    "n = s*np.random.randn(half_n)\n",
    "x, y = (r+n)*np.cos(t),(r+n)*np.sin(t)\n",
    "\n",
    "X_circ = np.hstack((x.reshape(half_n,1), y.reshape(half_n, 1)))\n",
    "\n",
    "\n",
    "# m, b = -1, 2\n",
    "# x = np.linspace(-12, 12, half_n)\n",
    "# y = m*x + b + s*np.random.randn(half_n)\n",
    "# X_line = np.hstack((x.reshape(half_n,1) , y.reshape(half_n,1)))\n",
    "\n",
    "# X = np.vstack((X_circ , X_line))\n",
    "\n",
    "fig = plt.figure(figsize=(5,5))\n",
    "ax = fig.add_subplot()\n",
    "ax.plot(x,y,'o',color='green')\n",
    "ax.set_aspect('equal')\n",
    "\n",
    "plt.show()\n"
   ]
  },
  {
   "cell_type": "code",
   "execution_count": 3,
   "metadata": {},
   "outputs": [
    {
     "name": "stdout",
     "output_type": "stream",
     "text": [
      "50\n"
     ]
    }
   ],
   "source": [
    "total_points = len(x)\n",
    "print(total_points)"
   ]
  },
  {
   "cell_type": "code",
   "execution_count": 4,
   "metadata": {},
   "outputs": [
    {
     "name": "stdout",
     "output_type": "stream",
     "text": [
      "35\n"
     ]
    }
   ],
   "source": [
    "p = 0.99\n",
    "s = 3\n",
    "e = 0.5\n",
    "N = int(np.ceil(np.log(1-p)/np.log(1-((1-e)**s))))\n",
    "print(N)"
   ]
  },
  {
   "cell_type": "code",
   "execution_count": 5,
   "metadata": {},
   "outputs": [],
   "source": [
    "def findCircle(x1, y1, x2, y2, x3, y3) :\n",
    "\tB = (x1**2 + y1**2)*(y2-y3) + (x2**2+y2**2)*(y3-y1) + (x3**2 + y3**2)*(y1-y2)\n",
    "\tA = x1*(y2-y3) - y1*(x2-x3) + x2*y3 - x3*y2\n",
    "\tC = (x1**2 + y1**2)*(x2-x3) + (x2**2 + y2**2)*(x3-x1) + (x3**2 + y3**2)*(x1-x2)\n",
    "\tD = (x1**2 + y1**2)*(x3*y2-x2*y3) + (x2**2 + y2**2)*(x1*y3-x3*y1) + (x3**2+y3**2)*(x2*y1 - x1*y2)\n",
    "\t\n",
    "\tH = B/(2*A)\n",
    "\tK = -C/(2*A)\n",
    "\tR = np.sqrt((B**2 + C**2 - 4*A*D)/(4*(A**2)))\n",
    "\tL = [H,K,R]\n",
    "\n",
    "\n",
    "\treturn L\n",
    "\n",
    "\n"
   ]
  },
  {
   "cell_type": "code",
   "execution_count": 6,
   "metadata": {},
   "outputs": [
    {
     "data": {
      "text/plain": [
       "[3.0, 2.0, 2.23606797749979]"
      ]
     },
     "execution_count": 6,
     "metadata": {},
     "output_type": "execute_result"
    }
   ],
   "source": [
    "findCircle(1,1,2,4,5,3)\n"
   ]
  },
  {
   "cell_type": "code",
   "execution_count": 7,
   "metadata": {},
   "outputs": [],
   "source": [
    "def drawCircle(x0,y0,r,PX,PY):\n",
    "    theta = np.linspace(0, 2*np.pi,360)\n",
    "    xx , yy = x0 + r*np.cos(theta) , y0 + r*np.sin(theta)\n",
    "    \n",
    "    fig = plt.figure(figsize=(5,5))\n",
    "    ax = fig.add_subplot()\n",
    "    ax.plot(xx,yy,color='green')\n",
    "    ax.plot(x,y,'o')\n",
    "    ax.plot(PX,PY,'o',color = 'red')\n",
    "    \n",
    "\n",
    "    ax.set_aspect('equal')\n",
    "    ax.grid('on')\n",
    "    plt.show()\n"
   ]
  },
  {
   "cell_type": "code",
   "execution_count": 8,
   "metadata": {},
   "outputs": [],
   "source": [
    "def random3(n):\n",
    "    a,b,c = np.random.randint(n,size=3)\n",
    "    if a==b or b==c or a==c:\n",
    "        return random3(n)\n",
    "    else:\n",
    "        return a,b,c"
   ]
  },
  {
   "cell_type": "code",
   "execution_count": 9,
   "metadata": {},
   "outputs": [],
   "source": [
    "def pointToCircle(hh,kk,r,x11,y11):\n",
    "    return (np.abs(np.sqrt((x11-hh)**2+(y11-kk)**2)-r))"
   ]
  },
  {
   "cell_type": "code",
   "execution_count": 10,
   "metadata": {},
   "outputs": [
    {
     "data": {
      "image/png": "[encoded data removed]",
      "text/plain": [
       "<Figure size 360x360 with 1 Axes>"
      ]
     },
     "metadata": {
      "needs_background": "light"
     },
     "output_type": "display_data"
    },
    {
     "name": "stdout",
     "output_type": "stream",
     "text": [
      "42\n"
     ]
    }
   ],
   "source": [
    "ransac = []\n",
    "max_inliers = 0\n",
    "inlier_set = []\n",
    "\n",
    "for i in range(total_points):\n",
    "    \n",
    "    point1, point2, point3 = random3(total_points)\n",
    "    inliers = 0\n",
    "    \n",
    "    center_x, center_y, radius = findCircle(x[point1],y[point1],x[point2],y[point2],x[point3],y[point3])\n",
    "    \n",
    "    inlier_set = []\n",
    "    for j in range(total_points):\n",
    "        d = pointToCircle(center_x,center_y,radius,x[j],y[j])\n",
    "        if d<1:\n",
    "            inliers+=1\n",
    "            inlier_set.append([x[j],y[j]])\n",
    "\n",
    "    \n",
    "    outliers = total_points - inliers\n",
    "    \n",
    "    if inliers > max_inliers:\n",
    "        ransac = [point1,point2,point3]\n",
    "        max_inliers = inliers\n",
    "        ransac_center_x, ransac_center_y, ransac_radius = center_x, center_y, radius\n",
    "        ransac_set = inlier_set\n",
    "        \n",
    "drawCircle(ransac_center_x,ransac_center_y,ransac_radius,[x[ransac[0]],x[ransac[1]],x[ransac[2]]],[y[ransac[0]],y[ransac[1]],y[ransac[2]]])\n",
    "print(max_inliers)\n"
   ]
  },
  {
   "cell_type": "code",
   "execution_count": 11,
   "metadata": {},
   "outputs": [
    {
     "name": "stdout",
     "output_type": "stream",
     "text": [
      "42\n"
     ]
    }
   ],
   "source": [
    "print(len(ransac_set))"
   ]
  },
  {
   "cell_type": "code",
   "execution_count": 12,
   "metadata": {},
   "outputs": [
    {
     "name": "stdout",
     "output_type": "stream",
     "text": [
      "42\n"
     ]
    },
    {
     "data": {
      "image/png": "[encoded data removed]",
      "text/plain": [
       "<Figure size 360x360 with 1 Axes>"
      ]
     },
     "metadata": {
      "needs_background": "light"
     },
     "output_type": "display_data"
    }
   ],
   "source": [
    "fig = plt.figure(figsize=(5,5))\n",
    "ax = fig.add_subplot()\n",
    "ransac_x = []\n",
    "ransac_y = []\n",
    "for h in ransac_set:\n",
    "    ransac_x.append(h[0])\n",
    "    ransac_y.append(h[1])\n",
    "\n",
    "ax.plot(ransac_x,ransac_y,'o')\n",
    "print(len(ransac_x))\n",
    "ax.set_aspect('equal')\n",
    "plt.title(\"Inliers of ransac cycle\")\n",
    "plt.show()\n"
   ]
  },
  {
   "cell_type": "code",
   "execution_count": 13,
   "metadata": {},
   "outputs": [],
   "source": [
    "total_points = len(ransac_set)\n"
   ]
  },
  {
   "cell_type": "code",
   "execution_count": 14,
   "metadata": {},
   "outputs": [
    {
     "data": {
      "image/png": "[encoded data removed]",
      "text/plain": [
       "<Figure size 360x360 with 1 Axes>"
      ]
     },
     "metadata": {
      "needs_background": "light"
     },
     "output_type": "display_data"
    }
   ],
   "source": [
    "best = []\n",
    "max_inliers = 0\n",
    "\n",
    "for i in range(total_points):\n",
    "    \n",
    "    point1, point2, point3 = random3(total_points)\n",
    "    inliers = 0\n",
    "    \n",
    "    center_x, center_y, radius = findCircle(ransac_x[point1],ransac_y[point1],ransac_x[point2],ransac_y[point2],ransac_x[point3],ransac_y[point3])\n",
    "    \n",
    "    for j in range(total_points):\n",
    "        d = pointToCircle(center_x,center_y,radius,ransac_x[j],ransac_y[j])\n",
    "        if d<1:\n",
    "            inliers+=1\n",
    "\n",
    "    if inliers > max_inliers:\n",
    "        best = [point1,point2,point3]\n",
    "        max_inliers = inliers\n",
    "        best_center_x, best_center_y, best_radius = center_x, center_y, radius\n",
    "        \n",
    "\n",
    "theta = np.linspace(0,2*np.pi,360)\n",
    "xx , yy = best_center_x + best_radius*np.cos(theta) , best_center_y + best_radius*np.sin(theta)\n",
    "\n",
    "\n",
    "fig = plt.figure(figsize=(5,5))\n",
    "ax = fig.add_subplot()\n",
    "ax.plot(xx,yy,color='green')\n",
    "ax.plot(x,y,'o')\n",
    "\n",
    "ax.set_aspect('equal')\n",
    "ax.grid('on')\n",
    "plt.title(\"Best Circle\")\n",
    "plt.show()\n",
    "\n"
   ]
  },
  {
   "cell_type": "markdown",
   "metadata": {},
   "source": [
    "Question 02"
   ]
  },
  {
   "cell_type": "code",
   "execution_count": 15,
   "metadata": {},
   "outputs": [
    {
     "name": "stdout",
     "output_type": "stream",
     "text": [
      "[[148, 210], [517, 295], [517, 518], [133, 519]]\n"
     ]
    }
   ],
   "source": [
    "#code for get the mouse click points\n",
    "\n",
    "corners = []\n",
    "def click_left_button(event, x, y, flags, params):\n",
    "    if event == cv.EVENT_LBUTTONDOWN:\n",
    "        corners.append([x,y])\n",
    "    \n",
    "\n",
    "img = cv.imread('001.jpg')\n",
    "cv.imshow('image', img)\n",
    "cv.setMouseCallback('image', click_left_button)\n",
    "cv.waitKey(0)\n",
    "cv.destroyAllWindows()\n",
    "\n",
    "print(corners)\n"
   ]
  },
  {
   "cell_type": "code",
   "execution_count": 16,
   "metadata": {},
   "outputs": [],
   "source": [
    "height, width = np.shape(img)[0],np.shape(img)[1]\n",
    "zero_matrix = np.array([[0],[0],[0]])"
   ]
  },
  {
   "cell_type": "code",
   "execution_count": 17,
   "metadata": {},
   "outputs": [],
   "source": [
    "#points corresponding to mouse clicking\n",
    "\n",
    "x_dash_1 = corners[0][0]\n",
    "y_dash_1 = corners[0][1]\n",
    "\n",
    "x_dash_2 = corners[1][0]\n",
    "y_dash_2 = corners[1][1]\n",
    "\n",
    "x_dash_3 = corners[2][0]\n",
    "y_dash_3 = corners[2][1]\n",
    "\n",
    "x_dash_4 = corners[3][0]\n",
    "y_dash_4 = corners[3][1]"
   ]
  },
  {
   "cell_type": "code",
   "execution_count": 18,
   "metadata": {},
   "outputs": [
    {
     "data": {
      "text/plain": [
       "(0.0, 768.0)"
      ]
     },
     "execution_count": 18,
     "metadata": {},
     "output_type": "execute_result"
    },
    {
     "data": {
      "image/png": "[encoded data removed]",
      "text/plain": [
       "<Figure size 432x288 with 1 Axes>"
      ]
     },
     "metadata": {
      "needs_background": "light"
     },
     "output_type": "display_data"
    }
   ],
   "source": [
    "plt.plot([x_dash_1,x_dash_2,x_dash_3,x_dash_4],[height-y_dash_1-1,height-y_dash_2-1,height-y_dash_3-1,height-y_dash_4-1],'o')\n",
    "\n",
    "plt.xlim(0,width)\n",
    "plt.ylim(0,height)"
   ]
  },
  {
   "cell_type": "code",
   "execution_count": 19,
   "metadata": {},
   "outputs": [
    {
     "data": {
      "image/png": "[encoded data removed]",
      "text/plain": [
       "<Figure size 432x288 with 1 Axes>"
      ]
     },
     "metadata": {
      "needs_background": "light"
     },
     "output_type": "display_data"
    }
   ],
   "source": [
    "flag = cv.imread(r'flag.png')\n",
    "plt.imshow(cv.cvtColor(flag, cv.COLOR_BGR2RGB))\n",
    "plt.show()"
   ]
  },
  {
   "cell_type": "code",
   "execution_count": 20,
   "metadata": {},
   "outputs": [
    {
     "name": "stdout",
     "output_type": "stream",
     "text": [
      "Flag height =  128\n",
      "Flag width =  255\n"
     ]
    }
   ],
   "source": [
    "flag_height , flag_width = np.shape(flag)[0] , np.shape(flag)[1]\n",
    "print(\"Flag height = \", flag_height)\n",
    "print(\"Flag width = \", flag_width)"
   ]
  },
  {
   "cell_type": "code",
   "execution_count": 21,
   "metadata": {},
   "outputs": [
    {
     "name": "stdout",
     "output_type": "stream",
     "text": [
      "[[0 0 1]] shape =  (1, 3)\n",
      "[[254   0   1]] shape =  (1, 3)\n",
      "[[254 127   1]] shape =  (1, 3)\n",
      "[[  0 127   1]] shape =  (1, 3)\n"
     ]
    }
   ],
   "source": [
    "x1T = np.array([[0,0,1]])\n",
    "x2T = np.array([[flag_width-1, 0,1]])\n",
    "x3T = np.array([[flag_width-1, flag_height-1, 1]])\n",
    "x4T = np.array([[0,flag_height-1,1]])\n",
    "\n",
    "print(x1T, 'shape = ', np.shape(x1T))\n",
    "print(x2T, 'shape = ', np.shape(x2T))\n",
    "print(x3T, 'shape = ', np.shape(x3T))\n",
    "print(x4T, 'shape = ', np.shape(x4T))"
   ]
  },
  {
   "cell_type": "code",
   "execution_count": null,
   "metadata": {},
   "outputs": [],
   "source": [
    "a = np.concatenate((zero_matrix.T,x1T, -y_dash_1*x1T), axis=1)\n",
    "b = np.concatenate((x1T,zero_matrix.T, -x_dash_1*x1T), axis=1)\n",
    "\n",
    "c = np.concatenate((zero_matrix.T,x2T, -y_dash_2*x2T), axis=1)\n",
    "d = np.concatenate((x2T,zero_matrix.T, -x_dash_2*x2T), axis=1)\n",
    "\n",
    "e = np.concatenate((zero_matrix.T,x3T, -y_dash_3*x3T), axis=1)\n",
    "f = np.concatenate((x3T,zero_matrix.T, -x_dash_3*x3T), axis=1)\n",
    "\n",
    "g = np.concatenate((zero_matrix.T,x4T, -y_dash_4*x4T), axis=1)\n",
    "h = np.concatenate((x4T,zero_matrix.T, -x_dash_4*x4T), axis=1)\n",
    "\n",
    "A = np.concatenate((a,b,c,d,e,f,g,h), axis=0, dtype = np.float64)\n",
    "print(A)\n",
    "print(np.shape(A))\n"
   ]
  }
 ],
 "metadata": {
  "interpreter": {
   "hash": "81794d4967e6c3204c66dcd87b604927b115b27c00565d3d43f05ba2f3a2cb0d"
  },
  "kernelspec": {
   "display_name": "Python 3.9.1 64-bit (system)",
   "language": "python",
   "name": "python3"
  },
  "language_info": {
   "codemirror_mode": {
    "name": "ipython",
    "version": 3
   },
   "file_extension": ".py",
   "mimetype": "text/x-python",
   "name": "python",
   "nbconvert_exporter": "python",
   "pygments_lexer": "ipython3",
   "version": "3.9.1"
  },
  "orig_nbformat": 4
 },
 "nbformat": 4,
 "nbformat_minor": 2
}
