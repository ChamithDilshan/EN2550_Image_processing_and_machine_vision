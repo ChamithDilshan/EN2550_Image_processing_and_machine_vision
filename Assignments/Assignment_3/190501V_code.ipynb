{
 "cells": [
  {
   "cell_type": "markdown",
   "id": "38c33499",
   "metadata": {},
   "source": [
    "# EN2550: Assignment 03 on Object Counting on a Conveyor Belt\n",
    "### Connected Component Analysis\n",
    "In this part, we will generate an indexed image representing connected components in conveyor_f101.png image. Notice that, as there are three square nuts and one hexagonal nut in the image, there will be five connected components (backgound will be assigned the label 0).\n",
    "1. Open the hexnut_template.png, squarenut_template.png and conveyor_f100.png and display. This is done for you."
   ]
  },
  {
   "cell_type": "code",
   "execution_count": null,
   "id": "589e8772",
   "metadata": {},
   "outputs": [],
   "source": [
    "import cv2 as cv\n",
    "import numpy as np\n",
    "import matplotlib.pyplot as plt\n",
    "\n",
    "hexnut_template = cv.imread('hexnut_template.png', cv.IMREAD_COLOR)\n",
    "squarenut_template =  cv.imread('squarenut_template.png', cv.IMREAD_COLOR)\n",
    "conveyor_f100 =  cv.imread('conveyor_f100.png', cv.IMREAD_COLOR)\n",
    "conveyor_f101 =  cv.imread('conveyor_f101.png', cv.IMREAD_COLOR)\n",
    "\n",
    "fig, ax = plt. subplots(1,3)\n",
    "ax[0].imshow(cv.cvtColor(hexnut_template, cv.COLOR_BGR2RGB))\n",
    "ax[1].imshow(cv.cvtColor(squarenut_template, cv.COLOR_BGR2RGB))\n",
    "ax[2].imshow(cv.cvtColor(conveyor_f100, cv.COLOR_BGR2RGB))\n",
    "plt.show()"
   ]
  },
  {
   "cell_type": "markdown",
   "id": "c344ba73",
   "metadata": {},
   "source": [
    "Convert the images to grayscale and apply Otsu's thresholding to obtain the binarized image. Do this for both the templates and belt images. State the threshold value (automatically) selected in the operation. Display the output images."
   ]
  },
  {
   "cell_type": "code",
   "execution_count": null,
   "id": "dbb40e1d",
   "metadata": {
    "scrolled": false
   },
   "outputs": [],
   "source": [
    "# Otsu's thresholding after Gaussian filtering\n",
    "images = [hexnut_template, squarenut_template, conveyor_f100, conveyor_f101]\n",
    "titles = [\"hexnut_template\", \"squarenut_template\", \"conveyor_f100\", \"conveyor_f101\"]\n",
    "binarized_images = []\n",
    "\n",
    "fig,ax = plt.subplots(2,4, figsize = (15,15))\n",
    "\n",
    "for i in range(len(images)):\n",
    "    gray_image = cv.cvtColor(images[i], cv.COLOR_BGR2GRAY)\n",
    "    blur = cv.GaussianBlur(gray_image,(5,5),0)\n",
    "    threshold_value, binary_image = cv.threshold(blur,0,255,cv.THRESH_BINARY+cv.THRESH_OTSU)\n",
    "   \n",
    "    binarized_images.append(binary_image) #Because later we want to call these images\n",
    "    ax[0,i].imshow(cv.cvtColor(gray_image, cv.COLOR_BGR2RGB)) ; ax[0,i].set_title(titles[i]+\"_grayscale\")\n",
    "    ax[1,i].imshow(cv.cvtColor(binary_image, cv.COLOR_BGR2RGB)) ; ax[1,i].set_title(titles[i]+\"_binarized\")\n",
    "    print(\"Threshold for %s is %s\"%(titles[i], threshold_value))\n",
    "plt.show()\n",
    "  "
   ]
  },
  {
   "cell_type": "markdown",
   "id": "91b64993",
   "metadata": {},
   "source": [
    "2. Carry out morphological closing to remove small holes inside the foreground. Use a \n",
    "3\n",
    "×\n",
    "3\n",
    " kernel."
   ]
  },
  {
   "cell_type": "code",
   "execution_count": null,
   "id": "e3b11a56",
   "metadata": {},
   "outputs": [],
   "source": [
    "kernel = np.ones((3,3),np.uint8)\n",
    "closed_binarized_images = []\n",
    "\n",
    "fig, ax = plt.subplots(1,4, figsize = (20,20))\n",
    "\n",
    "for i in range(len(images)):\n",
    "    closing = cv.morphologyEx(binarized_images[i], cv.MORPH_CLOSE, kernel)\n",
    "    closed_binarized_images.append(closing)\n",
    "    ax[i].imshow(cv.cvtColor(closing, cv.COLOR_BGR2RGB))\n",
    "    ax[i].set_title(titles[i]+\"_closed_binarized\")\n",
    "plt.show()"
   ]
  },
  {
   "cell_type": "markdown",
   "id": "6d7e7cb4",
   "metadata": {},
   "source": [
    "Connected components analysis. "
   ]
  },
  {
   "cell_type": "code",
   "execution_count": null,
   "id": "725224df",
   "metadata": {},
   "outputs": [],
   "source": [
    "connected_components = []\n",
    "fig, ax = plt.subplots(1,4,figsize = (20,20))\n",
    "\n",
    "for i in range(4):\n",
    "    retbal, labels, stats, centroids = cv.connectedComponentsWithStats(closed_binarized_images[i])\n",
    "    colormapped = cv.applyColorMap((labels/np.amax(labels)*255).astype('uint8'), cv.COLORMAP_TURBO)\n",
    "    connected_components.append(colormapped)\n",
    "    ax[i].imshow(cv.cvtColor(colormapped,cv.COLOR_BGR2RGB))\n",
    "    ax[i].set_title(titles[i]+\"_connected_components\")\n",
    "    print(titles[i])\n",
    "    print(\"Number of connected components in %s is %s.\"%(titles[i],np.shape(stats)[0]))\n",
    "    print(\"Stats for %s=\\n\"%(titles[i]), stats)\n",
    "    print(\"Centroids are as follows :\")\n",
    "    for j in range(len(centroids)):\n",
    "        print('--> ', round(centroids[j][0],3),',', round(centroids[j][1],3))\n",
    "        if j==len(centroids)-1: print('\\n')\n",
    "plt.show()"
   ]
  },
  {
   "cell_type": "code",
   "execution_count": null,
   "id": "35e9e900",
   "metadata": {},
   "outputs": [],
   "source": [
    "\n",
    "colors = [(0,255,0),(0,0,255),(255,255,0),(255,0,255)]\n",
    "thicknesses = [1,1,10,10]\n",
    "contours_list = []\n",
    "\n",
    "for i in range(4):\n",
    "    thresh = 255 - closed_binarized_images[i]\n",
    "    thresh = cv.cvtColor(thresh,cv.COLOR_RGB2BGR)\n",
    "    thresh = cv.cvtColor(thresh, cv.COLOR_BGR2GRAY)\n",
    "  \n",
    "    cnts = cv.findContours(thresh, cv.RETR_EXTERNAL, cv.CHAIN_APPROX_SIMPLE)\n",
    "    cnts = cnts[0] if len(cnts) == 2 else cnts[1]\n",
    "    black_background = np.zeros(np.shape(images[i]), dtype='uint8')\n",
    "\n",
    "    contours_list.append(cnts)\n",
    "    \n",
    "    for j in range(len(cnts)):\n",
    "        c = cnts[j]\n",
    "\n",
    "        cv.drawContours(black_background, [c], -1, colors[j], thicknesses[i])\n",
    "        \n",
    "        \n",
    "    fig, ax = plt.subplots(1,2, figsize = (7,7))\n",
    "    ax[0].imshow(cv.cvtColor(thresh, cv.COLOR_RGB2BGR))\n",
    "    ax[1].imshow(cv.cvtColor(black_background, cv.COLOR_RGB2BGR))\n",
    "    plt.show()\n",
    "\n"
   ]
  },
  {
   "cell_type": "markdown",
   "id": "923fc0ef",
   "metadata": {},
   "source": [
    "### Detecting Objects on a Synthetic Conveyor\n",
    "In this section, we will use the synthetic conveyor.mp4 sequence to count the two types of nuts."
   ]
  },
  {
   "cell_type": "code",
   "execution_count": null,
   "id": "c7ff96f8",
   "metadata": {},
   "outputs": [],
   "source": [
    "cv.namedWindow('Conveyor', cv.WINDOW_NORMAL)\n",
    "cap = cv.VideoCapture('conveyor.mp4')\n",
    "f = 0\n",
    "frame = []      \n",
    "while cap.isOpened():                                    \n",
    "    ret, frame = cap.read()\n",
    "    if not ret:\n",
    "        print(\"Can't receive frame (stream end?). Exiting.\")\n",
    "        break\n",
    "\n",
    "    f += 1\n",
    "    text = 'Frame:' + str(f)\n",
    "    cv.putText(frame,text , (100, 100), cv.FONT_HERSHEY_COMPLEX, 1, (255,0,0), 1, cv.LINE_AA)\n",
    "    cv.imshow('Conveyor', frame)\n",
    "\n",
    "    if cv.waitKey(1) == ord('q'):  \n",
    "        break\n",
    "\n",
    "cap.release()\n",
    "cv.destroyAllWindows()"
   ]
  },
  {
   "cell_type": "markdown",
   "id": "d785ff83",
   "metadata": {},
   "source": [
    "\n",
    "Count the number of matching hexagonal nuts in conveyor_f100.png."
   ]
  },
  {
   "cell_type": "code",
   "execution_count": 148,
   "id": "5056b4cf",
   "metadata": {},
   "outputs": [
    {
     "name": "stdout",
     "output_type": "stream",
     "text": [
      "Matching scores =  0.026486701348536812\n",
      "Matching scores =  0.025849223429892154\n",
      "Matching scores =  0.02584922343006335\n",
      "Matching scores =  9.745595547006047e-06\n",
      "\n",
      "Detected 1 match(es)\n"
     ]
    },
    {
     "data": {
      "image/png": "[encoded data removed]",
      "text/plain": [
       "<Figure size 432x288 with 1 Axes>"
      ]
     },
     "metadata": {
      "needs_background": "light"
     },
     "output_type": "display_data"
    }
   ],
   "source": [
    "contours_of_1 = contours_list[0]   #contours related to image 0\n",
    "contours_of_3 = contours_list[2]   #contours related to image 2\n",
    "\n",
    "cnt1 = contours_of_1[0]    #image 0 has only one collection\n",
    "\n",
    "black_background = np.zeros(np.shape(images[2]), dtype='uint8')\n",
    "\n",
    "detected = 0\n",
    "for cnt in contours_of_3: #iterate through items in the collection of contours for image 2\n",
    "    ret = cv.matchShapes(cnt1,cnt,1,0.0)\n",
    "    print(\"Matching scores = \",ret )\n",
    "    \n",
    "    if ret <= 0.001:\n",
    "        detected += 1\n",
    "        ww = cv.drawContours(black_background, [cnt], -1, [0,0,255], 10)\n",
    "    else: \n",
    "        ww = cv.drawContours(black_background, [cnt], -1, [0,255,0], 10)\n",
    "\n",
    "print(\"\\nDetected %s match(es)\"%(detected))\n",
    "plt.imshow(cv.cvtColor(ww, cv.COLOR_BGR2RGB)) ; plt.title(\"Detected matches are indicated in red\")\n",
    "plt.show()\n"
   ]
  },
  {
   "cell_type": "code",
   "execution_count": 149,
   "id": "b3e36227",
   "metadata": {},
   "outputs": [
    {
     "name": "stdout",
     "output_type": "stream",
     "text": [
      "7\n",
      "Matching scores =  0.0264867013483725\n",
      "Matching scores =  0.5395022604606026\n",
      "Matching scores =  0.02701632242024421\n",
      "Matching scores =  0.02701632242122276\n",
      "Matching scores =  0.02701632242122276\n",
      "Matching scores =  0.20982790281695474\n",
      "Matching scores =  0.02701632241730878\n",
      "\n",
      "Detected 0 match(es)\n"
     ]
    },
    {
     "data": {
      "image/png": "[encoded data removed]",
      "text/plain": [
       "<Figure size 432x288 with 1 Axes>"
      ]
     },
     "metadata": {
      "needs_background": "light"
     },
     "output_type": "display_data"
    }
   ],
   "source": [
    "# cv.namedWindow('Conveyor', cv.WINDOW_NORMAL)\n",
    "cap = cv.VideoCapture('conveyor.mp4')\n",
    "f = 0\n",
    "frame = []    \n",
    "kernel = np.ones((3,3),np.uint8)  \n",
    "while cap.isOpened():                                    \n",
    "    ret, frame = cap.read()\n",
    "    if not ret:\n",
    "        print(\"Can't receive frame (stream end?). Exiting.\")\n",
    "        break\n",
    "\n",
    "    f += 1\n",
    "    text = 'Frame:' + str(f)\n",
    "    cv.putText(frame,text , (100, 100), cv.FONT_HERSHEY_COMPLEX, 1, (255,0,0), 1, cv.LINE_AA)\n",
    "    # cv.imshow('Conveyor', frame)\n",
    "\n",
    "    if cv.waitKey(1) == ord('q'):  \n",
    "        break\n",
    "    \n",
    "    gray_frame = cv.cvtColor(frame, cv.COLOR_BGR2GRAY)\n",
    "    blur_frame = cv.GaussianBlur(gray_frame,(5,5),0)\n",
    "    threshold_value, binary_frame = cv.threshold(blur_frame,0,255,cv.THRESH_BINARY+cv.THRESH_OTSU)\n",
    "\n",
    "    closed_frame = cv.morphologyEx(binary_frame, cv.MORPH_CLOSE, kernel)\n",
    "    thresh_frame = 255 - closed_frame\n",
    "    thresh_frame = cv.cvtColor(thresh_frame,cv.COLOR_RGB2BGR)\n",
    "    thresh_frame = cv.cvtColor(thresh_frame, cv.COLOR_BGR2GRAY)\n",
    "    \n",
    "    black_background = np.zeros(np.shape(frame), dtype='uint8')\n",
    "    cnts_frame = cv.findContours(thresh_frame, cv.RETR_EXTERNAL, cv.CHAIN_APPROX_SIMPLE)\n",
    "    cnts_frame = cnts_frame[0] if len(cnts_frame) == 2 else cnts_frame[1]\n",
    "\n",
    "\n",
    "    \n",
    "    \n",
    "    detected = 0\n",
    "    if f==10:\n",
    "        print(len(cnts_frame))\n",
    "        for items in cnts_frame:\n",
    "            ret = cv.matchShapes(cnt1,items,1,0.0)\n",
    "            print(\"Matching scores = \",ret )\n",
    "    \n",
    "            if ret <= 0.001:\n",
    "                detected += 1\n",
    "                ww = cv.drawContours(black_background, [items], -1, [0,0,255], 10)\n",
    "            else: \n",
    "                ww = cv.drawContours(black_background, [items], -1, [0,255,0], 10)\n",
    "        print(\"\\nDetected %s match(es)\"%(detected))\n",
    "        plt.imshow(cv.cvtColor(thresh_frame, cv.COLOR_BGR2RGB))\n",
    "        break\n",
    "\n",
    "cap.release()\n",
    "cv.destroyAllWindows()"
   ]
  }
 ],
 "metadata": {
  "interpreter": {
   "hash": "81794d4967e6c3204c66dcd87b604927b115b27c00565d3d43f05ba2f3a2cb0d"
  },
  "kernelspec": {
   "display_name": "Python 3.9.1 64-bit (system)",
   "language": "python",
   "name": "python3"
  },
  "language_info": {
   "codemirror_mode": {
    "name": "ipython",
    "version": 3
   },
   "file_extension": ".py",
   "mimetype": "text/x-python",
   "name": "python",
   "nbconvert_exporter": "python",
   "pygments_lexer": "ipython3",
   "version": "3.9.1"
  }
 },
 "nbformat": 4,
 "nbformat_minor": 5
}
